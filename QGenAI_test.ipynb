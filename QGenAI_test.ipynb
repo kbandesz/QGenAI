{
  "nbformat": 4,
  "nbformat_minor": 0,
  "metadata": {
    "colab": {
      "provenance": [],
      "mount_file_id": "17gwvQviMwWcLIM5x7TGiLG53qydCOCbc",
      "authorship_tag": "ABX9TyOXZBZ5TqoxfftnhR7SAe0M",
      "include_colab_link": true
    },
    "kernelspec": {
      "name": "python3",
      "display_name": "Python 3"
    },
    "language_info": {
      "name": "python"
    }
  },
  "cells": [
    {
      "cell_type": "markdown",
      "metadata": {
        "id": "view-in-github",
        "colab_type": "text"
      },
      "source": [
        "<a href=\"https://colab.research.google.com/github/kbandesz/QGenAI/blob/main/QGenAI_test.ipynb\" target=\"_parent\"><img src=\"https://colab.research.google.com/assets/colab-badge.svg\" alt=\"Open In Colab\"/></a>"
      ]
    },
    {
      "cell_type": "markdown",
      "source": [
        "# Bloom classifier for learning objectives (LangChain implementation)"
      ],
      "metadata": {
        "id": "wEC5n_hOkeyx"
      }
    },
    {
      "cell_type": "code",
      "source": [
        "# Set up environment XXX\n",
        "import os\n",
        "from google.colab import userdata\n",
        "\n",
        "# Set Google Drive paths\n",
        "working_dir = \"/content/drive/MyDrive/Colab/QGenAI\"\n",
        "os.chdir(working_dir)\n",
        "\n",
        "print(f\"Current working directory set to: {os.getcwd()}\")\n",
        "\n",
        "# Set OpenAI API key\n",
        "OPENAI_API_KEY = userdata.get('OPENAI_API_KEY')\n",
        "print(f\"OpenAI API key set.\")"
      ],
      "metadata": {
        "colab": {
          "base_uri": "https://localhost:8080/"
        },
        "outputId": "a3f74143-6390-4ac6-bf3f-bff2066c43e0",
        "id": "rmE3IQXlA_WA"
      },
      "execution_count": null,
      "outputs": [
        {
          "output_type": "stream",
          "name": "stdout",
          "text": [
            "Current working directory set to: /content/drive/MyDrive/Colab/QGenAI\n",
            "OpenAI API key set.\n"
          ]
        }
      ]
    },
    {
      "cell_type": "code",
      "source": [
        "# Install packages\n",
        "!pip install langchain langchain-openai langchain-community docx2txt"
      ],
      "metadata": {
        "colab": {
          "base_uri": "https://localhost:8080/"
        },
        "id": "O0rgeKurknn8",
        "outputId": "4ad73695-adf1-4e3d-be2b-0f9b2b29ac04"
      },
      "execution_count": null,
      "outputs": [
        {
          "output_type": "stream",
          "name": "stdout",
          "text": [
            "Requirement already satisfied: langchain in /usr/local/lib/python3.11/dist-packages (0.3.25)\n",
            "Requirement already satisfied: langchain-openai in /usr/local/lib/python3.11/dist-packages (0.3.17)\n",
            "Requirement already satisfied: langchain-community in /usr/local/lib/python3.11/dist-packages (0.3.24)\n",
            "Requirement already satisfied: docx2txt in /usr/local/lib/python3.11/dist-packages (0.9)\n",
            "Requirement already satisfied: langchain-core<1.0.0,>=0.3.58 in /usr/local/lib/python3.11/dist-packages (from langchain) (0.3.59)\n",
            "Requirement already satisfied: langchain-text-splitters<1.0.0,>=0.3.8 in /usr/local/lib/python3.11/dist-packages (from langchain) (0.3.8)\n",
            "Requirement already satisfied: langsmith<0.4,>=0.1.17 in /usr/local/lib/python3.11/dist-packages (from langchain) (0.3.42)\n",
            "Requirement already satisfied: pydantic<3.0.0,>=2.7.4 in /usr/local/lib/python3.11/dist-packages (from langchain) (2.11.4)\n",
            "Requirement already satisfied: SQLAlchemy<3,>=1.4 in /usr/local/lib/python3.11/dist-packages (from langchain) (2.0.40)\n",
            "Requirement already satisfied: requests<3,>=2 in /usr/local/lib/python3.11/dist-packages (from langchain) (2.32.3)\n",
            "Requirement already satisfied: PyYAML>=5.3 in /usr/local/lib/python3.11/dist-packages (from langchain) (6.0.2)\n",
            "Requirement already satisfied: openai<2.0.0,>=1.68.2 in /usr/local/lib/python3.11/dist-packages (from langchain-openai) (1.78.1)\n",
            "Requirement already satisfied: tiktoken<1,>=0.7 in /usr/local/lib/python3.11/dist-packages (from langchain-openai) (0.9.0)\n",
            "Requirement already satisfied: aiohttp<4.0.0,>=3.8.3 in /usr/local/lib/python3.11/dist-packages (from langchain-community) (3.11.15)\n",
            "Requirement already satisfied: tenacity!=8.4.0,<10,>=8.1.0 in /usr/local/lib/python3.11/dist-packages (from langchain-community) (9.1.2)\n",
            "Requirement already satisfied: dataclasses-json<0.7,>=0.5.7 in /usr/local/lib/python3.11/dist-packages (from langchain-community) (0.6.7)\n",
            "Requirement already satisfied: pydantic-settings<3.0.0,>=2.4.0 in /usr/local/lib/python3.11/dist-packages (from langchain-community) (2.9.1)\n",
            "Requirement already satisfied: httpx-sse<1.0.0,>=0.4.0 in /usr/local/lib/python3.11/dist-packages (from langchain-community) (0.4.0)\n",
            "Requirement already satisfied: numpy>=1.26.2 in /usr/local/lib/python3.11/dist-packages (from langchain-community) (2.0.2)\n",
            "Requirement already satisfied: aiohappyeyeballs>=2.3.0 in /usr/local/lib/python3.11/dist-packages (from aiohttp<4.0.0,>=3.8.3->langchain-community) (2.6.1)\n",
            "Requirement already satisfied: aiosignal>=1.1.2 in /usr/local/lib/python3.11/dist-packages (from aiohttp<4.0.0,>=3.8.3->langchain-community) (1.3.2)\n",
            "Requirement already satisfied: attrs>=17.3.0 in /usr/local/lib/python3.11/dist-packages (from aiohttp<4.0.0,>=3.8.3->langchain-community) (25.3.0)\n",
            "Requirement already satisfied: frozenlist>=1.1.1 in /usr/local/lib/python3.11/dist-packages (from aiohttp<4.0.0,>=3.8.3->langchain-community) (1.6.0)\n",
            "Requirement already satisfied: multidict<7.0,>=4.5 in /usr/local/lib/python3.11/dist-packages (from aiohttp<4.0.0,>=3.8.3->langchain-community) (6.4.3)\n",
            "Requirement already satisfied: propcache>=0.2.0 in /usr/local/lib/python3.11/dist-packages (from aiohttp<4.0.0,>=3.8.3->langchain-community) (0.3.1)\n",
            "Requirement already satisfied: yarl<2.0,>=1.17.0 in /usr/local/lib/python3.11/dist-packages (from aiohttp<4.0.0,>=3.8.3->langchain-community) (1.20.0)\n",
            "Requirement already satisfied: marshmallow<4.0.0,>=3.18.0 in /usr/local/lib/python3.11/dist-packages (from dataclasses-json<0.7,>=0.5.7->langchain-community) (3.26.1)\n",
            "Requirement already satisfied: typing-inspect<1,>=0.4.0 in /usr/local/lib/python3.11/dist-packages (from dataclasses-json<0.7,>=0.5.7->langchain-community) (0.9.0)\n",
            "Requirement already satisfied: jsonpatch<2.0,>=1.33 in /usr/local/lib/python3.11/dist-packages (from langchain-core<1.0.0,>=0.3.58->langchain) (1.33)\n",
            "Requirement already satisfied: packaging<25,>=23.2 in /usr/local/lib/python3.11/dist-packages (from langchain-core<1.0.0,>=0.3.58->langchain) (24.2)\n",
            "Requirement already satisfied: typing-extensions>=4.7 in /usr/local/lib/python3.11/dist-packages (from langchain-core<1.0.0,>=0.3.58->langchain) (4.13.2)\n",
            "Requirement already satisfied: httpx<1,>=0.23.0 in /usr/local/lib/python3.11/dist-packages (from langsmith<0.4,>=0.1.17->langchain) (0.28.1)\n",
            "Requirement already satisfied: orjson<4.0.0,>=3.9.14 in /usr/local/lib/python3.11/dist-packages (from langsmith<0.4,>=0.1.17->langchain) (3.10.18)\n",
            "Requirement already satisfied: requests-toolbelt<2.0.0,>=1.0.0 in /usr/local/lib/python3.11/dist-packages (from langsmith<0.4,>=0.1.17->langchain) (1.0.0)\n",
            "Requirement already satisfied: zstandard<0.24.0,>=0.23.0 in /usr/local/lib/python3.11/dist-packages (from langsmith<0.4,>=0.1.17->langchain) (0.23.0)\n",
            "Requirement already satisfied: anyio<5,>=3.5.0 in /usr/local/lib/python3.11/dist-packages (from openai<2.0.0,>=1.68.2->langchain-openai) (4.9.0)\n",
            "Requirement already satisfied: distro<2,>=1.7.0 in /usr/local/lib/python3.11/dist-packages (from openai<2.0.0,>=1.68.2->langchain-openai) (1.9.0)\n",
            "Requirement already satisfied: jiter<1,>=0.4.0 in /usr/local/lib/python3.11/dist-packages (from openai<2.0.0,>=1.68.2->langchain-openai) (0.9.0)\n",
            "Requirement already satisfied: sniffio in /usr/local/lib/python3.11/dist-packages (from openai<2.0.0,>=1.68.2->langchain-openai) (1.3.1)\n",
            "Requirement already satisfied: tqdm>4 in /usr/local/lib/python3.11/dist-packages (from openai<2.0.0,>=1.68.2->langchain-openai) (4.67.1)\n",
            "Requirement already satisfied: annotated-types>=0.6.0 in /usr/local/lib/python3.11/dist-packages (from pydantic<3.0.0,>=2.7.4->langchain) (0.7.0)\n",
            "Requirement already satisfied: pydantic-core==2.33.2 in /usr/local/lib/python3.11/dist-packages (from pydantic<3.0.0,>=2.7.4->langchain) (2.33.2)\n",
            "Requirement already satisfied: typing-inspection>=0.4.0 in /usr/local/lib/python3.11/dist-packages (from pydantic<3.0.0,>=2.7.4->langchain) (0.4.0)\n",
            "Requirement already satisfied: python-dotenv>=0.21.0 in /usr/local/lib/python3.11/dist-packages (from pydantic-settings<3.0.0,>=2.4.0->langchain-community) (1.1.0)\n",
            "Requirement already satisfied: charset-normalizer<4,>=2 in /usr/local/lib/python3.11/dist-packages (from requests<3,>=2->langchain) (3.4.2)\n",
            "Requirement already satisfied: idna<4,>=2.5 in /usr/local/lib/python3.11/dist-packages (from requests<3,>=2->langchain) (3.10)\n",
            "Requirement already satisfied: urllib3<3,>=1.21.1 in /usr/local/lib/python3.11/dist-packages (from requests<3,>=2->langchain) (2.4.0)\n",
            "Requirement already satisfied: certifi>=2017.4.17 in /usr/local/lib/python3.11/dist-packages (from requests<3,>=2->langchain) (2025.4.26)\n",
            "Requirement already satisfied: greenlet>=1 in /usr/local/lib/python3.11/dist-packages (from SQLAlchemy<3,>=1.4->langchain) (3.2.2)\n",
            "Requirement already satisfied: regex>=2022.1.18 in /usr/local/lib/python3.11/dist-packages (from tiktoken<1,>=0.7->langchain-openai) (2024.11.6)\n",
            "Requirement already satisfied: httpcore==1.* in /usr/local/lib/python3.11/dist-packages (from httpx<1,>=0.23.0->langsmith<0.4,>=0.1.17->langchain) (1.0.9)\n",
            "Requirement already satisfied: h11>=0.16 in /usr/local/lib/python3.11/dist-packages (from httpcore==1.*->httpx<1,>=0.23.0->langsmith<0.4,>=0.1.17->langchain) (0.16.0)\n",
            "Requirement already satisfied: jsonpointer>=1.9 in /usr/local/lib/python3.11/dist-packages (from jsonpatch<2.0,>=1.33->langchain-core<1.0.0,>=0.3.58->langchain) (3.0.0)\n",
            "Requirement already satisfied: mypy-extensions>=0.3.0 in /usr/local/lib/python3.11/dist-packages (from typing-inspect<1,>=0.4.0->dataclasses-json<0.7,>=0.5.7->langchain-community) (1.1.0)\n"
          ]
        }
      ]
    },
    {
      "cell_type": "code",
      "source": [
        "# Import LangChain packages\n",
        "from langchain_openai import ChatOpenAI\n",
        "from langchain_core.prompts import ChatPromptTemplate\n",
        "from langchain_core.output_parsers import JsonOutputParser\n",
        "from langchain_community.document_loaders import Docx2txtLoader"
      ],
      "metadata": {
        "id": "lKdQornPGsnh"
      },
      "execution_count": null,
      "outputs": []
    },
    {
      "cell_type": "code",
      "source": [
        "# Initialize the Language Model (LLM)\n",
        "model = \"gpt-4o-mini\" #\"gpt-4.1\"\n",
        "llm = ChatOpenAI(\n",
        "    api_key=OPENAI_API_KEY,\n",
        "    model=model,\n",
        "    temperature=0.0,    # For deterministic output\n",
        "    max_tokens=1024\n",
        ")"
      ],
      "metadata": {
        "id": "lZPmW08Ak21i"
      },
      "execution_count": null,
      "outputs": []
    },
    {
      "cell_type": "code",
      "source": [
        "# Define the Prompt Template\n",
        "prompt_template = ChatPromptTemplate.from_messages([\n",
        "    (\"system\", \"You are an expert in instructional design and educational pedagogy, specializing in Bloom's Taxonomy and curriculum analysis.\"),\n",
        "    (\"human\", \"\"\"Your task is to determine the Bloom’s Taxonomy level of a given learning objective based on the provided course materials.\n",
        "\n",
        "COURSE MATERIALS:\n",
        "--------------------------------\n",
        "{course_material}\n",
        "--------------------------------\n",
        "\n",
        "LEARNING OBJECTIVE:\n",
        "--------------------------------\n",
        "\"{learning_objective}\"\n",
        "--------------------------------\n",
        "\n",
        "BLOOM’s TAXONOMY WITH EXAMPLES:\n",
        "--------------------------------\n",
        "Critically analyze the learning objective and course materials.\n",
        "Remember, the Bloom's level is determined not just by the action verb in the learning objective, but by the highest level of cognitive complexity required to achieve the objective *within the specific context and scope of the provided course materials*.\n",
        "Sample learning objectives pertain to a macroeconomic statistics course on the compilation of Producer Price Indexes (PPIs).\n",
        "\n",
        "## Bloom’s Level 1: Remember\n",
        "# Explanation: Learners recall facts, terms, definitions, and concepts. The focus is on memorization and pure recall without deeper interpretation of information.\n",
        "# Sample Learning Objective: Identify the components of a basic price for an output PPI.\n",
        "\n",
        "## Bloom’s Level 2: Understand\n",
        "# Explanation: Learners demonstrate the ability to explain or interpret information in their own words. The focus is on understanding ideas or concepts.\n",
        "# Sample Learning Objective: Distinguish between market and nonmarket producers for a PPI.\n",
        "\n",
        "## Bloom’s Level 3: Apply\n",
        "# Explanation: Learners apply what they have learned to diverse contexts outside the course. The focus is on using information in new situations.\n",
        "# Sample Learning Objective: Identify whether an entity is a market or a nonmarket producer.\n",
        "\n",
        "## Bloom’s Level 4: Analyze\n",
        "# Explanation: Learners break down information into its constituent parts and examine the connections among them. The focus is on drawing far and wide connections (for example, recognizing patterns, determining cause and effect, comparing and contrasting ideas, etc.).\n",
        "# Sample Learning Objective: Examine the challenges involved in creating PPIs for services activities in your country.\n",
        "\n",
        "## Bloom’s Level 5: Evaluate\n",
        "# Explanation: Learners critique information based on well-reasoned judgements (for example, quality, relevance, etc.). The focus is on assessing information using diverse perspectives, forming opinions, and being able to support or defend these opinions.\n",
        "# Sample Learning Objective: Critically assess the PPI compilation process in your country for a chosen sector.\n",
        "\n",
        "## Bloom’s Level 6: Create\n",
        "# Explanation: Learners produce new or original work. The focus is on synthesizing information, imagining creative possibilities, and expressing originality in the output.\n",
        "# Sample Learning Objective: Devise a statistical survey for collecting data from manufacturing businesses in your country to calculate an appropriate PPI.\n",
        "--------------------------------\n",
        "\n",
        "Based on the course materials and the learning objective, what is the Bloom level of the learning objective? Consider the cognitive demands implied by the learning objective in relation to the content and tasks suggested by the course materials. Your entire response must be a single, valid JSON object. Do not include any text or explanations outside of this JSON object. The JSON object should have the following keys:\n",
        "- \"bloom_level_1\": The primary Bloom's level determined for the learning objective. Must be one of the exact strings: 'Remember', 'Understand', 'Apply', 'Analyze', 'Evaluate', or 'Create'.\n",
        "- \"rationale\": A concise explanation (2-3 sentences) detailing *why* the learning objective, in conjunction with the provided course materials, maps to the chosen `bloom_level_1`. Refer to specific aspects of the definition of the Bloom level and how they apply in the context of the course material. Do NOT repeat the learning objective in the rationale.\n",
        "- \"ambiguous\": A string indicating if there's a strong case for a second Bloom's level. Must be one of the exact strings: 'Yes' or 'No'.\n",
        "- \"ambiguous_reason\": If 'ambiguous' is 'Yes', provide a concise explanation (2-3 sentences) for why the learning objective could also be classified at `bloom_level_2`. If 'ambiguous' is 'No', this field should be an empty string \"\".\n",
        "- \"bloom_level_2\": If 'ambiguous' is 'Yes', provide the alternative Bloom's level. Must be one of the exact strings: 'Remember', 'Understand', 'Apply', 'Analyze', 'Evaluate', or 'Create'. If 'ambiguous' is 'No', this field should be an empty string \"\".\n",
        "\"\"\")\n",
        "])\n"
      ],
      "metadata": {
        "id": "7OIb1bl9lDc5"
      },
      "execution_count": null,
      "outputs": []
    },
    {
      "cell_type": "code",
      "source": [
        "# Define the Output Parser\n",
        "json_parser = JsonOutputParser()\n",
        "\n",
        "# Create the LangChain (LCEL Chain)\n",
        "bloom_chain = prompt_template | llm | json_parser\n"
      ],
      "metadata": {
        "id": "nhD0wHg89K7c"
      },
      "execution_count": null,
      "outputs": []
    },
    {
      "cell_type": "code",
      "source": [
        "# Load course material using Docx2txtLoader\n",
        "from google.colab import files\n",
        "import os\n",
        "\n",
        "def load_course_material():\n",
        "    print(\"Please upload the course material file (.docx):\")\n",
        "    uploaded = files.upload()\n",
        "\n",
        "    if not uploaded:\n",
        "        print(\"No file uploaded. Exiting.\")\n",
        "        quit()\n",
        "\n",
        "    # Get the name of the uploaded file (assuming only one file is uploaded)\n",
        "    file_name = list(uploaded.keys())[0]\n",
        "    file_content = uploaded[file_name]\n",
        "\n",
        "    # Define a temporary file path\n",
        "    temp_file_path = \"uploaded_course_material.docx\"\n",
        "\n",
        "    # Save the uploaded content to the temporary file\n",
        "    with open(temp_file_path, 'wb') as f:\n",
        "        f.write(file_content)\n",
        "\n",
        "    loader = Docx2txtLoader(temp_file_path)\n",
        "    documents = loader.load()\n",
        "    course_material = documents[0].page_content\n",
        "\n",
        "    # Delete the temporary file\n",
        "    os.remove(temp_file_path)\n",
        "\n",
        "    # Basic check for empty content (minimal error handling for prototype)\n",
        "    if not course_material.strip():\n",
        "        print(\"Warning: The loaded course material is empty.\")\n",
        "        quit()\n",
        "\n",
        "    return course_material"
      ],
      "metadata": {
        "id": "1LTrQHAwlvoj"
      },
      "execution_count": null,
      "outputs": []
    },
    {
      "cell_type": "code",
      "source": [
        "# Read learning objectives from a file\n",
        "from google.colab import files\n",
        "\n",
        "def read_learning_objectives():\n",
        "    print(\"Please upload the learning objectives file (.txt):\")\n",
        "    uploaded = files.upload()\n",
        "\n",
        "    if not uploaded:\n",
        "        print(\"No file uploaded. Exiting.\")\n",
        "        quit()\n",
        "\n",
        "    # Get the name of the uploaded file (assuming only one file is uploaded)\n",
        "    file_name = list(uploaded.keys())[0]\n",
        "    file_content_bytes = uploaded[file_name]\n",
        "\n",
        "    # Decode bytes to string\n",
        "    file_content_string = file_content_bytes.decode('utf-8')\n",
        "\n",
        "    # Process the string content\n",
        "    learning_objectives = [] # Initialize an empty list\n",
        "    lines = file_content_string.splitlines()\n",
        "    learning_objectives = [line.strip() for line in lines if line.strip()]\n",
        "\n",
        "    return learning_objectives"
      ],
      "metadata": {
        "id": "wb9LDeUsDJLY"
      },
      "execution_count": null,
      "outputs": []
    },
    {
      "cell_type": "code",
      "source": [
        "# Get LLM response\n",
        "def invoke_bloom_chain(course_material, learning_objective):\n",
        "    result = bloom_chain.invoke({\n",
        "        \"course_material\": course_material,\n",
        "        \"learning_objective\": learning_objective\n",
        "    })\n",
        "\n",
        "    return result"
      ],
      "metadata": {
        "id": "ueZOeD415Fb5"
      },
      "execution_count": null,
      "outputs": []
    },
    {
      "cell_type": "code",
      "source": [
        "# Invoke the chain for each learning objective in each module\n",
        "print(\"-------------------------------------------\")\n",
        "print(\"--- Macroeconomic Policy Communications ---\")\n",
        "print(\"-------------------------------------------\")\n",
        "\n",
        "for m in range(2):\n",
        "    course_material = load_course_material() # Removed file path argument\n",
        "    learning_objectives = read_learning_objectives() # Removed file path argument\n",
        "    n = len(learning_objectives)\n",
        "    print(f\"\\n*** MODULE {m+1}: Analyzing {n} learning objectives ***\")\n",
        "\n",
        "    for idx, current_learning_objective in enumerate(learning_objectives):\n",
        "        print(f\"\\nLearning Objective {idx + 1}/{n}: \\\"{current_learning_objective}\\\"\\n\")\n",
        "        result = invoke_bloom_chain(course_material, current_learning_objective)\n",
        "\n",
        "        # --- Display Result  ---\n",
        "        print(f\"Determined Bloom's Level (Primary): {result['bloom_level_1']}\\n\")\n",
        "        print(f\"Rationale: {result['rationale']}\")\n",
        "        print(f\"Is Classification Ambiguous?: {result['ambiguous']}\\n\")\n",
        "\n",
        "        # Check the 'ambiguous' flag and display related info if 'Yes'\n",
        "        if result['ambiguous'] == 'Yes':\n",
        "            print(f\"Reason for Ambiguity: {result['ambiguous_reason']}\\n\")\n",
        "            print(f\"Alternative Bloom's Level: {result['bloom_level_2']}\\n\")\n",
        "        print(\"--------------------------------------\")\n"
      ],
      "metadata": {
        "colab": {
          "base_uri": "https://localhost:8080/"
        },
        "id": "-pYxb9atmTNk",
        "outputId": "02974c82-42d7-4a9c-e3cb-04f3eef70832"
      },
      "execution_count": null,
      "outputs": [
        {
          "output_type": "stream",
          "name": "stdout",
          "text": [
            "-------------------------------------------\n",
            "--- Macroeconomic Policy Communications ---\n",
            "-------------------------------------------\n",
            "\n",
            "*** MODULE 1: Analyzing 4 learning objectives ***\n",
            "\n",
            "Learning Objective 1/4: \"Summarize the historical context of institutional policy communication.\"\n",
            "\n",
            "Determined Bloom's Level (Primary): Understand\n",
            "\n",
            "Rationale: The learning objective requires learners to explain the historical context of institutional policy communication, which involves interpreting and conveying information in their own words. This aligns with the 'Understand' level of Bloom's Taxonomy, as it goes beyond mere recall and requires comprehension of the concepts presented in the course materials.\n",
            "Is Classification Ambiguous?: No\n",
            "\n",
            "--------------------------------------\n",
            "\n",
            "Learning Objective 2/4: \"Identify the main benefits/purposes of transparency.\"\n",
            "\n",
            "Determined Bloom's Level (Primary): Understand\n",
            "\n",
            "Rationale: The learning objective requires learners to identify the main benefits and purposes of transparency, which involves interpreting and explaining concepts related to policy communication. This aligns with the 'Understand' level of Bloom's Taxonomy, as it goes beyond mere recall and requires comprehension of the material presented in the course.\n",
            "Is Classification Ambiguous?: No\n",
            "\n",
            "--------------------------------------\n",
            "\n",
            "Learning Objective 3/4: \"Describe the essential elements that policymakers should communicate in their respective macroeconomic policy areas.\"\n",
            "\n",
            "Determined Bloom's Level (Primary): Understand\n",
            "\n",
            "Rationale: The learning objective requires learners to describe essential elements, which involves interpreting and explaining concepts in their own words. This aligns with the 'Understand' level of Bloom's Taxonomy, as it emphasizes comprehension of ideas rather than mere recall or application.\n",
            "Is Classification Ambiguous?: No\n",
            "\n",
            "--------------------------------------\n",
            "\n",
            "Learning Objective 4/4: \"Explain that transparency is a necessary but not sufficient condition for effective communication.\"\n",
            "\n",
            "Determined Bloom's Level (Primary): Understand\n",
            "\n",
            "Rationale: The learning objective requires learners to explain the concept that transparency is necessary but not sufficient for effective communication, which involves interpreting and articulating ideas in their own words. This aligns with the 'Understand' level of Bloom's Taxonomy, as it focuses on comprehension of concepts rather than mere recall or application.\n",
            "Is Classification Ambiguous?: No\n",
            "\n",
            "--------------------------------------\n",
            "\n",
            "*** MODULE 2: Analyzing 4 learning objectives ***\n",
            "\n",
            "Learning Objective 1/4: \"Describe differences between communicating with experts and with the general public.\"\n",
            "\n",
            "Determined Bloom's Level (Primary): Understand\n",
            "\n",
            "Rationale: The learning objective requires learners to explain the differences in communication styles between experts and the general public, which aligns with the 'Understand' level of Bloom's Taxonomy. This level emphasizes the ability to interpret and articulate concepts in one's own words, as indicated by the course materials that discuss the nuances of communication strategies tailored to different audiences.\n",
            "Is Classification Ambiguous?: No\n",
            "\n",
            "--------------------------------------\n",
            "\n",
            "Learning Objective 2/4: \"Differentiate between central bank transparency and communication.\"\n",
            "\n",
            "Determined Bloom's Level (Primary): Understand\n",
            "\n",
            "Rationale: The learning objective requires learners to explain the differences between central bank transparency and communication, which aligns with the 'Understand' level of Bloom's Taxonomy. This level focuses on interpreting and explaining concepts in one's own words, as indicated by the course materials that discuss the nuances of these two concepts.\n",
            "Is Classification Ambiguous?: No\n",
            "\n",
            "--------------------------------------\n",
            "\n",
            "Learning Objective 3/4: \"Describe two main objectives of central bank communication with the general public.\"\n",
            "\n",
            "Determined Bloom's Level (Primary): Understand\n",
            "\n",
            "Rationale: The learning objective requires learners to explain the two main objectives of central bank communication, which involves interpreting and conveying information in their own words. This aligns with the 'Understand' level of Bloom's Taxonomy, as it goes beyond mere recall and requires comprehension of the concepts presented in the course materials.\n",
            "Is Classification Ambiguous?: No\n",
            "\n",
            "--------------------------------------\n",
            "\n",
            "Learning Objective 4/4: \"Identify three challenges of central bank communication with the public and potential strategies to overcome these challenges.\"\n",
            "\n",
            "Determined Bloom's Level (Primary): Apply\n",
            "\n",
            "Rationale: The learning objective requires learners to identify specific challenges and strategies, which involves applying their understanding of central bank communication concepts to real-world scenarios. This aligns with the 'Apply' level as it necessitates using knowledge in a practical context rather than merely recalling or explaining information.\n",
            "Is Classification Ambiguous?: No\n",
            "\n",
            "--------------------------------------\n"
          ]
        }
      ]
    },
    {
      "cell_type": "code",
      "source": [],
      "metadata": {
        "id": "_uL8e6lpm0rv"
      },
      "execution_count": null,
      "outputs": []
    }
  ]
}